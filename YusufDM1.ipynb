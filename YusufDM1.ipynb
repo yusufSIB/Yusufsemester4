{
  "nbformat": 4,
  "nbformat_minor": 0,
  "metadata": {
    "colab": {
      "provenance": [],
      "authorship_tag": "ABX9TyMGLdRWX6E+sDb2rt51ltr3",
      "include_colab_link": true
    },
    "kernelspec": {
      "name": "python3",
      "display_name": "Python 3"
    },
    "language_info": {
      "name": "python"
    }
  },
  "cells": [
    {
      "cell_type": "markdown",
      "metadata": {
        "id": "view-in-github",
        "colab_type": "text"
      },
      "source": [
        "<a href=\"https://colab.research.google.com/github/yusufSIB/Yusufsemester4/blob/main/YusufDM1.ipynb\" target=\"_parent\"><img src=\"https://colab.research.google.com/assets/colab-badge.svg\" alt=\"Open In Colab\"/></a>"
      ]
    },
    {
      "cell_type": "code",
      "execution_count": null,
      "metadata": {
        "id": "lTk7-Vo4LcjK"
      },
      "outputs": [],
      "source": [
        "McDonald's financial statements (2002-2022)"
      ]
    },
    {
      "cell_type": "markdown",
      "source": [
        "###McDonald's financial statements (2002-2022)\n",
        "\n",
        "Business Understanding\n",
        "\n",
        "Business Objective\n",
        "\n",
        "Laporan keuangan McDonald's memiliki beberapa tujuan bisnis yang penting, yang sangat diperlukan untuk memahami kesehatan keuangan dan kinerja perusahaan. Beberapa tujuan tersebut meliputi:\n",
        "\n",
        "1. **Evaluasi Kinerja Keuangan**: Laporan keuangan McDonald's, termasuk laporan laba rugi, neraca, dan laporan arus kas, memberikan gambaran komprehensif tentang kinerja keuangan perusahaan selama periode tertentu. Pemangku kepentingan, termasuk investor, analis, dan manajemen, menganalisis laporan ini untuk menilai profitabilitas, likuiditas, dan kesehatan keuangan secara keseluruhan.\n",
        "\n",
        "2. **Komunikasi dengan Investor**: Laporan keuangan menjadi alat penting untuk berkomunikasi dengan investor dan pemegang saham. Mereka memberikan wawasan tentang posisi keuangan McDonald's, efisiensi operasional, dan prospek pertumbuhan, memengaruhi keputusan investasi dan valuasi saham.\n",
        "\n",
        "3. **Pembuatan Keputusan Strategis**: Manajemen mengandalkan laporan keuangan untuk membuat keputusan strategis yang terinformasi mengenai alokasi sumber daya, rencana ekspansi, pengembangan produk, dan prioritas investasi. Analisis data keuangan membantu mengidentifikasi area kekuatan dan kelemahan, membimbing inisiatif strategis untuk memaksimalkan nilai bagi pemegang saham.\n",
        "\n",
        "4. **Kepatuhan dan Persyaratan Regulasi**: Laporan keuangan McDonald's harus mematuhi standar akuntansi dan persyaratan regulasi, seperti Prinsip Akuntansi yang Berlaku Umum (GAAP) di Amerika Serikat atau Standar Pelaporan Keuangan Internasional (IFRS). Pelaporan keuangan yang akurat memastikan transparansi dan akuntabilitas kepada regulator, investor, dan pemangku kepentingan lainnya.\n",
        "\n",
        "Data mining goals\n",
        "\n",
        "Tujuan dari melakukan data mining pada laporan keuangan McDonald's dapat mencakup beberapa hal, seperti:\n",
        "\n",
        "1. **Analisis Kinerja Keuangan**: Melalui data mining, McDonald's dapat menganalisis kinerja keuangan mereka dari waktu ke waktu. Ini mencakup identifikasi tren pendapatan, profitabilitas, dan efisiensi operasional dari laporan keuangan mereka.\n",
        "\n",
        "2. **Pemahaman Pola Pembelian dan Preferensi Pelanggan**: McDonald's dapat menggunakan data mining untuk menganalisis pola pembelian pelanggan, preferensi produk, dan perilaku konsumen lainnya yang tercermin dalam laporan keuangan mereka. Informasi ini dapat digunakan untuk mengembangkan strategi pemasaran yang lebih efektif dan menyesuaikan portofolio produk.\n",
        "\n",
        "3. **Segmentasi Pelanggan**: Dengan data mining, McDonald's dapat membagi pelanggan mereka ke dalam kelompok berdasarkan karakteristik demografis, geografis, atau perilaku belanja. Ini membantu dalam menyusun strategi pemasaran yang lebih terfokus dan personalisasi layanan untuk setiap segmen pelanggan.\n",
        "\n",
        "4. **Prediksi Kinerja Masa Depan**: McDonald's dapat menggunakan data mining untuk membangun model prediksi yang dapat memperkirakan kinerja keuangan mereka di masa depan. Ini dapat meliputi prediksi penjualan, margin keuntungan, atau pertumbuhan bisnis.\n",
        "\n",
        "Project plan\n",
        "\n",
        "Berikut adalah contoh rencana proyek untuk melakukan analisis laporan keuangan McDonald's:\n",
        "\n",
        "### Proyek: Analisis Laporan Keuangan McDonald's\n",
        "\n",
        "**Tujuan Proyek:**\n",
        "Menganalisis laporan keuangan McDonald's untuk mendapatkan wawasan yang mendalam tentang kinerja keuangan perusahaan dan mendukung pengambilan keputusan yang terinformasi.\n",
        "\n",
        "**Langkah-langkah Proyek:**\n",
        "\n",
        "1. **Pemilihan Tim Proyek**:\n",
        "   - Mengidentifikasi anggota tim proyek, termasuk analis keuangan, data scientist, dan ahli domain McDonald's.\n",
        "\n",
        "2. **Pengumpulan Data**:\n",
        "   - Mengumpulkan laporan keuangan tahunan McDonald's selama beberapa tahun terakhir.\n",
        "   - Mengumpulkan data tambahan yang diperlukan, seperti laporan analis dan informasi industri.\n",
        "\n",
        "3. **Pembersihan dan Persiapan Data**:\n",
        "   - Membersihkan data laporan keuangan untuk menghilangkan entri yang tidak relevan atau tidak lengkap.\n",
        "   - Melakukan normalisasi dan penyesuaian data jika diperlukan.\n",
        "\n",
        "4. **Analisis Laporan Keuangan**:\n",
        "   - Menganalisis laporan laba rugi, neraca, dan laporan arus kas McDonald's.\n",
        "   - Identifikasi tren kinerja keuangan dari waktu ke waktu.\n",
        "   - Perbandingan kinerja keuangan dengan pesaing industri.\n",
        "\n",
        "5. **Pemodelan Prediktif**:\n",
        "   - Membangun model prediksi untuk memperkirakan kinerja keuangan McDonald's di masa depan.\n",
        "   - Menggunakan teknik data mining untuk identifikasi faktor-faktor yang memengaruhi kinerja keuangan.\n",
        "\n",
        "6. **Analisis Segmentasi Pelanggan**:\n",
        "   - Menganalisis data pelanggan jika tersedia untuk segmentasi dan pemahaman perilaku pembelian.\n",
        "\n",
        "7. **Penyusunan Laporan dan Presentasi**:\n",
        "   - Menyusun laporan hasil analisis dengan temuan utama dan rekomendasi.\n",
        "   - Menyampaikan presentasi kepada pemangku kepentingan terkait, termasuk manajemen eksekutif McDonald's.\n",
        "\n"
      ],
      "metadata": {
        "id": "531kS4p8MHme"
      }
    },
    {
      "cell_type": "markdown",
      "source": [],
      "metadata": {
        "id": "V6PH_--gMDfD"
      }
    }
  ]
}